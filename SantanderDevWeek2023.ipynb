{
  "nbformat": 4,
  "nbformat_minor": 0,
  "metadata": {
    "colab": {
      "provenance": [],
      "collapsed_sections": [
        "kNuP0SDUZMBY"
      ],
      "include_colab_link": true
    },
    "kernelspec": {
      "name": "python3",
      "display_name": "Python 3"
    },
    "language_info": {
      "name": "python"
    }
  },
  "cells": [
    {
      "cell_type": "markdown",
      "metadata": {
        "id": "view-in-github",
        "colab_type": "text"
      },
      "source": [
        "<a href=\"https://colab.research.google.com/github/wallecepaes/Dio.me/blob/main/SantanderDevWeek2023.ipynb\" target=\"_parent\"><img src=\"https://colab.research.google.com/assets/colab-badge.svg\" alt=\"Open In Colab\"/></a>"
      ]
    },
    {
      "cell_type": "markdown",
      "source": [
        "# Santander Dev Week 2023 (ETL com Python)"
      ],
      "metadata": {
        "id": "BPJQsTCULaC-"
      }
    },
    {
      "cell_type": "markdown",
      "source": [
        "## **E**xtract\n",
        " Função de extração"
      ],
      "metadata": {
        "id": "9dfI-o7gLRq9"
      }
    },
    {
      "cell_type": "code",
      "execution_count": 75,
      "metadata": {
        "id": "NYydpX_GLRCB"
      },
      "outputs": [],
      "source": [
        "import pandas as pd"
      ]
    },
    {
      "cell_type": "code",
      "source": [
        "def extract(file_path):\n",
        "    print(\"Extraindo dados...\")\n",
        "    data = pd.read_excel(file_path)  # Lê o arquivo Excel\n",
        "    return data"
      ],
      "metadata": {
        "id": "F5XOuCZGSTGw"
      },
      "execution_count": 74,
      "outputs": []
    },
    {
      "cell_type": "markdown",
      "source": [
        "## **T**ransform\n",
        "\n",
        "Função de transformação (exemplo: duplica os valores da coluna \"valor\")"
      ],
      "metadata": {
        "id": "cWoqInB4TF1x"
      }
    },
    {
      "cell_type": "code",
      "source": [
        "def transform(data):\n",
        "    print(\"Realizando transformações...\")\n",
        "    data[\"valor\"] = data[\"valor\"] * 2  # Transformação simples, duplica os valores\n",
        "    return data\n"
      ],
      "metadata": {
        "id": "O--PCAObTQkK"
      },
      "execution_count": 76,
      "outputs": []
    },
    {
      "cell_type": "code",
      "source": [],
      "metadata": {
        "id": "sUB1doiDTX3y"
      },
      "execution_count": null,
      "outputs": []
    },
    {
      "cell_type": "markdown",
      "source": [
        "## **L**oad\n",
        "\n",
        "Função de carga (salvar em um novo arquivo Excel)"
      ],
      "metadata": {
        "id": "kNuP0SDUZMBY"
      }
    },
    {
      "cell_type": "code",
      "source": [
        "def load(data, output_file):\n",
        "    print(\"Salvando dados transformados...\")\n",
        "    data.to_excel(output_file, index=False)\n",
        "\n",
        "\n"
      ],
      "metadata": {
        "id": "YefWfYBoZMN2"
      },
      "execution_count": 77,
      "outputs": []
    }
  ]
}